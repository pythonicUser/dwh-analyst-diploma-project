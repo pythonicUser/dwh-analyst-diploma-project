{
 "cells": [
  {
   "cell_type": "markdown",
   "id": "7f7bce88",
   "metadata": {},
   "source": [
    "### Creation of a baseline model for AFL results prediction"
   ]
  },
  {
   "cell_type": "code",
   "execution_count": 1,
   "id": "e6f3b62c",
   "metadata": {},
   "outputs": [],
   "source": [
    "import pandas as pd\n",
    "from sklearn.utils import shuffle\n",
    "from sklearn.model_selection import train_test_split\n",
    "from sklearn.linear_model import LogisticRegression\n",
    "from sklearn.ensemble import GradientBoostingClassifier\n",
    "from sklearn.metrics import accuracy_score\n",
    "from sqlalchemy import create_engine"
   ]
  },
  {
   "cell_type": "markdown",
   "id": "98e1283e",
   "metadata": {},
   "source": [
    "Let's create engine to connect to db"
   ]
  },
  {
   "cell_type": "code",
   "execution_count": 2,
   "id": "de91587d",
   "metadata": {},
   "outputs": [],
   "source": [
    "POSTGRES_ADDRESS = '127.0.0.1' \n",
    "POSTGRES_PORT = '5432'\n",
    "POSTGRES_USERNAME = 'analyst'\n",
    "POSTGRES_PASSWORD = 'analyst'\n",
    "POSTGRES_DBNAME = 'afl-db' \n",
    "postgres_str = ('postgresql://{username}:{password}@{ipaddress}:{port}/{dbname}'\n",
    "                .format(username=POSTGRES_USERNAME,\n",
    "                password=POSTGRES_PASSWORD,\n",
    "                ipaddress=POSTGRES_ADDRESS,\n",
    "                port=POSTGRES_PORT,\n",
    "                dbname=POSTGRES_DBNAME))\n",
    "\n",
    "afl_conn= create_engine(postgres_str)"
   ]
  },
  {
   "cell_type": "markdown",
   "id": "6d0447d7",
   "metadata": {},
   "source": [
    "Next, let's read data"
   ]
  },
  {
   "cell_type": "code",
   "execution_count": 3,
   "id": "e35951f2",
   "metadata": {},
   "outputs": [],
   "source": [
    "train_df = pd.read_sql_query(\"select * from afl.ml_mart_train\", con=afl_conn)"
   ]
  },
  {
   "cell_type": "markdown",
   "id": "0801a86d",
   "metadata": {},
   "source": [
    "Shuffle the data"
   ]
  },
  {
   "cell_type": "code",
   "execution_count": 4,
   "id": "3798cce0",
   "metadata": {},
   "outputs": [],
   "source": [
    "df = shuffle(train_df)"
   ]
  },
  {
   "cell_type": "markdown",
   "id": "32ce46e6",
   "metadata": {},
   "source": [
    "Let's do some team mapping to encode categorical variable"
   ]
  },
  {
   "cell_type": "code",
   "execution_count": 5,
   "id": "c1f9344a",
   "metadata": {},
   "outputs": [],
   "source": [
    "d = {'Gold Coast':0, 'Western Bulldogs':1, 'GWS':2, 'Richmond':3, 'Geelong':4,\n",
    "       'Adelaide':5, 'Essendon':6, 'Fremantle':7, 'Collingwood':8, 'Hawthorn':9,\n",
    "       'West Coast':10, 'Carlton':11, 'St Kilda':12, 'Brisbane':13, 'Sydney':14,\n",
    "       'Port Adelaide':15, 'Melbourne':16, 'North Melbourne':17}\n",
    "df['home_team'] = df.home_team.map(d)\n",
    "df['away_team'] = df.away_team.map(d)"
   ]
  },
  {
   "cell_type": "code",
   "execution_count": 6,
   "id": "611cc2a5",
   "metadata": {},
   "outputs": [],
   "source": [
    "X = df.drop(['is_home_win', 'score_total', 'venue'], axis=1)\n",
    "y = df['is_home_win']\n",
    "X_train, X_test, y_train, y_test = train_test_split(X, y,train_size=0.8, random_state=42)"
   ]
  },
  {
   "cell_type": "markdown",
   "id": "53eca647",
   "metadata": {},
   "source": [
    "## Logistic regression baseline model"
   ]
  },
  {
   "cell_type": "code",
   "execution_count": 7,
   "id": "bbfd27c9",
   "metadata": {},
   "outputs": [
    {
     "data": {
      "text/plain": [
       "0.6572769953051644"
      ]
     },
     "execution_count": 7,
     "metadata": {},
     "output_type": "execute_result"
    }
   ],
   "source": [
    "model_base = LogisticRegression(max_iter=5000)\n",
    "model_base.fit(X_train, y_train)\n",
    "predictions = model_base.predict(X_test)\n",
    "accuracy_score(y_test, predictions)"
   ]
  },
  {
   "cell_type": "markdown",
   "id": "6ac11823",
   "metadata": {},
   "source": [
    "## XGB baseline model"
   ]
  },
  {
   "cell_type": "code",
   "execution_count": 8,
   "id": "331579f4",
   "metadata": {},
   "outputs": [
    {
     "data": {
      "text/plain": [
       "0.6056338028169014"
      ]
     },
     "execution_count": 8,
     "metadata": {},
     "output_type": "execute_result"
    }
   ],
   "source": [
    "clf = GradientBoostingClassifier(n_estimators=100, learning_rate=0.01, max_depth=5, random_state=42)\n",
    "clf.fit(X_train, y_train)\n",
    "clf.score(X_test, y_test)"
   ]
  },
  {
   "cell_type": "markdown",
   "id": "6a67cf66",
   "metadata": {},
   "source": [
    "Download prediction data"
   ]
  },
  {
   "cell_type": "code",
   "execution_count": 9,
   "id": "6f03038f",
   "metadata": {},
   "outputs": [],
   "source": [
    "predict_df=pd.read_sql_query(\"select * from afl.data_for_prediction\", con=afl_conn)\n",
    "predict_df['home_team'] = predict_df.home_team.map(d)\n",
    "predict_df['away_team'] = predict_df.away_team.map(d)\n",
    "X_ = predict_df.drop(['venue'], axis=1)"
   ]
  },
  {
   "cell_type": "code",
   "execution_count": 10,
   "id": "176c2500",
   "metadata": {},
   "outputs": [],
   "source": [
    "d2 = {y: x for x, y in d.items()}\n",
    "predict_df['home_team'] = predict_df.home_team.map(d2)\n",
    "predict_df['away_team'] = predict_df.away_team.map(d2)\n",
    "predict_df['logreg predict'] = model_base.predict(X_)\n",
    "predict_df['XGB predict'] = clf.predict(X_)"
   ]
  },
  {
   "cell_type": "code",
   "execution_count": 11,
   "id": "f38a5945",
   "metadata": {},
   "outputs": [
    {
     "data": {
      "text/html": [
       "<div>\n",
       "<style scoped>\n",
       "    .dataframe tbody tr th:only-of-type {\n",
       "        vertical-align: middle;\n",
       "    }\n",
       "\n",
       "    .dataframe tbody tr th {\n",
       "        vertical-align: top;\n",
       "    }\n",
       "\n",
       "    .dataframe thead th {\n",
       "        text-align: right;\n",
       "    }\n",
       "</style>\n",
       "<table border=\"1\" class=\"dataframe\">\n",
       "  <thead>\n",
       "    <tr style=\"text-align: right;\">\n",
       "      <th></th>\n",
       "      <th>home_team</th>\n",
       "      <th>away_team</th>\n",
       "      <th>logreg predict</th>\n",
       "      <th>XGB predict</th>\n",
       "    </tr>\n",
       "  </thead>\n",
       "  <tbody>\n",
       "    <tr>\n",
       "      <th>0</th>\n",
       "      <td>Adelaide</td>\n",
       "      <td>Collingwood</td>\n",
       "      <td>1</td>\n",
       "      <td>1</td>\n",
       "    </tr>\n",
       "    <tr>\n",
       "      <th>1</th>\n",
       "      <td>Carlton</td>\n",
       "      <td>Geelong</td>\n",
       "      <td>0</td>\n",
       "      <td>1</td>\n",
       "    </tr>\n",
       "    <tr>\n",
       "      <th>2</th>\n",
       "      <td>Essendon</td>\n",
       "      <td>Gold Coast</td>\n",
       "      <td>1</td>\n",
       "      <td>1</td>\n",
       "    </tr>\n",
       "    <tr>\n",
       "      <th>3</th>\n",
       "      <td>Fremantle</td>\n",
       "      <td>Sydney</td>\n",
       "      <td>0</td>\n",
       "      <td>1</td>\n",
       "    </tr>\n",
       "    <tr>\n",
       "      <th>4</th>\n",
       "      <td>GWS</td>\n",
       "      <td>Brisbane</td>\n",
       "      <td>0</td>\n",
       "      <td>1</td>\n",
       "    </tr>\n",
       "    <tr>\n",
       "      <th>5</th>\n",
       "      <td>Hawthorn</td>\n",
       "      <td>West Coast</td>\n",
       "      <td>0</td>\n",
       "      <td>1</td>\n",
       "    </tr>\n",
       "    <tr>\n",
       "      <th>6</th>\n",
       "      <td>Melbourne</td>\n",
       "      <td>Port Adelaide</td>\n",
       "      <td>1</td>\n",
       "      <td>1</td>\n",
       "    </tr>\n",
       "    <tr>\n",
       "      <th>7</th>\n",
       "      <td>North Melbourne</td>\n",
       "      <td>Richmond</td>\n",
       "      <td>0</td>\n",
       "      <td>0</td>\n",
       "    </tr>\n",
       "    <tr>\n",
       "      <th>8</th>\n",
       "      <td>Western Bulldogs</td>\n",
       "      <td>St Kilda</td>\n",
       "      <td>1</td>\n",
       "      <td>1</td>\n",
       "    </tr>\n",
       "  </tbody>\n",
       "</table>\n",
       "</div>"
      ],
      "text/plain": [
       "          home_team      away_team  logreg predict  XGB predict\n",
       "0          Adelaide    Collingwood               1            1\n",
       "1           Carlton        Geelong               0            1\n",
       "2          Essendon     Gold Coast               1            1\n",
       "3         Fremantle         Sydney               0            1\n",
       "4               GWS       Brisbane               0            1\n",
       "5          Hawthorn     West Coast               0            1\n",
       "6         Melbourne  Port Adelaide               1            1\n",
       "7   North Melbourne       Richmond               0            0\n",
       "8  Western Bulldogs       St Kilda               1            1"
      ]
     },
     "execution_count": 11,
     "metadata": {},
     "output_type": "execute_result"
    }
   ],
   "source": [
    "predict_df[['home_team', 'away_team', 'logreg predict', 'XGB predict']]"
   ]
  }
 ],
 "metadata": {
  "kernelspec": {
   "display_name": "netology_hw",
   "language": "python",
   "name": "netology_hw"
  },
  "language_info": {
   "codemirror_mode": {
    "name": "ipython",
    "version": 3
   },
   "file_extension": ".py",
   "mimetype": "text/x-python",
   "name": "python",
   "nbconvert_exporter": "python",
   "pygments_lexer": "ipython3",
   "version": "3.9.2"
  }
 },
 "nbformat": 4,
 "nbformat_minor": 5
}
